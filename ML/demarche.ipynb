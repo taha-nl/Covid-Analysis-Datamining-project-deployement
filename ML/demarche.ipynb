{
 "cells": [
  {
   "cell_type": "markdown",
   "metadata": {},
   "source": [
    "### fixing Goal:\n",
    "* Objectif : Predict if a person is infected based on available clinical data\n",
    "\n",
    "* Metrique : Precision / recall / f1 score (we have imbalanced dataset)\n",
    "    \n",
    "    * precision : reduce the rate of False positives (not sending normal people to hospital)\n",
    "    * recall : reduce the rate of False negatives (prevent infected peaple hanging out in street)\n",
    "\n",
    "### EDA (Exploratory Dta Analysis) \n",
    "\n",
    "#### Goal: understanding dataset in order to make a modeling strategy\n",
    "\n",
    "#### shape analysis\n",
    "\n",
    "1. target identification\n",
    "2. shape\n",
    "3. types of variables\n",
    "4. missing values\n",
    "\n",
    "#### deep analysis\n",
    "\n",
    "1. target visualization (Histogram/Boxplot)\n",
    "2. visualization of relations between features-target(histogram/Boxplot)\n",
    "3. outliers identification\n",
    "\n",
    "\n",
    "\n",
    "\n",
    "\n",
    "\n",
    "\n",
    "### Pre-processing\n",
    "\n",
    "1. fixing missing values\n",
    "2. encoding\n",
    "3. removing outliers\n",
    "4. feature selection\n",
    "5. feature engineering\n",
    "6. feature Scaling\n",
    "\n",
    "\n",
    "\n",
    "\n",
    "\n",
    "### Modeling\n",
    "\n",
    "1. evaluation system\n",
    "2. training different models\n",
    "3. Optimisation with GridSearchCV\n",
    "4. Learning Curve / making decision"
   ]
  }
 ],
 "metadata": {
  "kernelspec": {
   "display_name": "Python 3",
   "language": "python",
   "name": "python3"
  },
  "language_info": {
   "name": "python",
   "version": "3.11.0"
  },
  "orig_nbformat": 4,
  "vscode": {
   "interpreter": {
    "hash": "5238573367df39f7286bb46f9ff5f08f63a01a80960060ce41e3c79b190280fa"
   }
  }
 },
 "nbformat": 4,
 "nbformat_minor": 2
}
